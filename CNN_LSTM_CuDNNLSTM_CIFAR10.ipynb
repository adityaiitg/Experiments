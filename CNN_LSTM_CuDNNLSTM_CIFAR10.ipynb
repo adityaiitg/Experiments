{
  "nbformat": 4,
  "nbformat_minor": 0,
  "metadata": {
    "colab": {
      "name": "CNN-LSTM-CuDNNLSTM-CIFAR10.ipynb",
      "provenance": []
    },
    "kernelspec": {
      "name": "python3",
      "display_name": "Python 3"
    },
    "accelerator": "GPU"
  },
  "cells": [
    {
      "metadata": {
        "id": "kfsUsxhg8AO0"
      },
      "cell_type": "markdown",
      "source": [
        "### Tensorflow Keras  :"
      ]
    },
    {
      "metadata": {
        "id": "OrtqrZmI9qZ6",
        "colab": {
          "base_uri": "https://localhost:8080/"
        },
        "outputId": "b551fab7-bce6-4687-a85f-bf16a7a03673"
      },
      "cell_type": "code",
      "source": [
        "%pylab inline\n",
        "import tensorflow as tf\n",
        "from tensorflow.keras.datasets import cifar10,mnist\n",
        "from tensorflow.keras.layers import Dense,Flatten,Conv2D,MaxPooling2D,CuDNNLSTM,LSTM,Dropout\n",
        "from tensorflow.keras.models import Sequential\n",
        "from tensorflow.keras.utils import normalize"
      ],
      "execution_count": 1,
      "outputs": [
        {
          "output_type": "stream",
          "name": "stdout",
          "text": [
            "Populating the interactive namespace from numpy and matplotlib\n"
          ]
        }
      ]
    },
    {
      "metadata": {
        "id": "b1_yWHvO7qM_"
      },
      "cell_type": "markdown",
      "source": [
        "### MNIST Dataset : "
      ]
    },
    {
      "metadata": {
        "id": "AMIvxqbe3bMB"
      },
      "cell_type": "code",
      "source": [
        "(x_train,y_train),(x_test,y_test) = mnist.load_data()\n",
        "x_train,x_test = normalize(x_train,axis = 1),normalize(x_test,axis = 1)"
      ],
      "execution_count": 2,
      "outputs": []
    },
    {
      "metadata": {
        "id": "t3VN1of27v9H"
      },
      "cell_type": "markdown",
      "source": [
        "### Recurent Neural Network with LSTM | MNIST : "
      ]
    },
    {
      "metadata": {
        "id": "LiBW6mqPFy-8",
        "colab": {
          "base_uri": "https://localhost:8080/"
        },
        "outputId": "27a1033a-8ff9-4ff9-ab92-0ae3003013e7"
      },
      "cell_type": "code",
      "source": [
        "model = Sequential()\n",
        "model.add(LSTM(128,input_shape = (x_train.shape[1:]),activation = 'relu',return_sequences = True))\n",
        "model.add(Dropout(0.2))\n",
        "\n",
        "model.add(LSTM(128,activation = 'relu'))\n",
        "model.add(Dropout(0.2))\n",
        "\n",
        "model.add(Dense(32,activation = 'relu'))\n",
        "model.add(Dropout(0.2))\n",
        "\n",
        "model.add(Dense(10,activation = 'softmax'))\n",
        "\n",
        "opt = tf.keras.optimizers.Adam(lr = 1e-3,decay = 1e-5)\n",
        "model.compile(optimizer = opt,loss = \"sparse_categorical_crossentropy\" , metrics=['accuracy'])\n",
        "model.fit(x_train,y_train,epochs = 3,validation_data = (x_test,y_test))"
      ],
      "execution_count": 5,
      "outputs": [
        {
          "output_type": "stream",
          "name": "stdout",
          "text": [
            "Train on 60000 samples, validate on 10000 samples\n",
            "Epoch 1/3\n",
            "60000/60000 [==============================] - 129s 2ms/sample - loss: 0.7003 - acc: 0.7694 - val_loss: 0.1962 - val_acc: 0.9392\n",
            "Epoch 2/3\n",
            "60000/60000 [==============================] - 128s 2ms/sample - loss: 0.1828 - acc: 0.9505 - val_loss: 0.0969 - val_acc: 0.9720\n",
            "Epoch 3/3\n",
            "60000/60000 [==============================] - 128s 2ms/sample - loss: 0.1354 - acc: 0.9624 - val_loss: 0.0848 - val_acc: 0.9766\n"
          ]
        },
        {
          "output_type": "execute_result",
          "data": {
            "text/plain": [
              "<tensorflow.python.keras.callbacks.History at 0x7f0eac97ac10>"
            ]
          },
          "metadata": {},
          "execution_count": 5
        }
      ]
    },
    {
      "metadata": {
        "id": "N2z0wOae73Bw"
      },
      "cell_type": "markdown",
      "source": [
        "### Recurent Neural Network with CuDNNLSTM | MNIST :"
      ]
    },
    {
      "metadata": {
        "id": "Hr8xyaBcwOve",
        "colab": {
          "base_uri": "https://localhost:8080/"
        },
        "outputId": "e1229af0-527e-4ad9-fbcc-089db3500776"
      },
      "cell_type": "code",
      "source": [
        "model = Sequential()\n",
        "model.add(CuDNNLSTM(128,input_shape = (x_train.shape[1:]),return_sequences = True))\n",
        "model.add(Dropout(0.2))\n",
        "\n",
        "model.add(CuDNNLSTM(128))\n",
        "model.add(Dropout(0.2))\n",
        "\n",
        "model.add(Dense(32,activation = 'relu'))\n",
        "model.add(Dropout(0.2))\n",
        "\n",
        "model.add(Dense(10,activation = 'softmax'))\n",
        "\n",
        "opt = tf.keras.optimizers.Adam(lr = 1e-3,decay = 1e-5)\n",
        "model.compile(optimizer = opt,loss = \"sparse_categorical_crossentropy\" , metrics=['accuracy'])\n",
        "model.fit(x_train,y_train,epochs = 3,validation_data = (x_test,y_test))"
      ],
      "execution_count": 4,
      "outputs": [
        {
          "output_type": "stream",
          "name": "stdout",
          "text": [
            "Train on 60000 samples, validate on 10000 samples\n",
            "Epoch 1/3\n",
            "60000/60000 [==============================] - 19s 314us/sample - loss: 0.5005 - acc: 0.8450 - val_loss: 0.1677 - val_acc: 0.9502\n",
            "Epoch 2/3\n",
            "60000/60000 [==============================] - 11s 175us/sample - loss: 0.1605 - acc: 0.9560 - val_loss: 0.0923 - val_acc: 0.9741\n",
            "Epoch 3/3\n",
            "60000/60000 [==============================] - 11s 177us/sample - loss: 0.1056 - acc: 0.9709 - val_loss: 0.0735 - val_acc: 0.9777\n"
          ]
        },
        {
          "output_type": "execute_result",
          "data": {
            "text/plain": [
              "<tensorflow.python.keras.callbacks.History at 0x7f0eadf3c510>"
            ]
          },
          "metadata": {},
          "execution_count": 4
        }
      ]
    },
    {
      "cell_type": "code",
      "source": [
        ""
      ],
      "metadata": {
        "id": "LS4gY2-9F5og"
      },
      "execution_count": null,
      "outputs": []
    }
  ]
}