{
  "nbformat": 4,
  "nbformat_minor": 0,
  "metadata": {
    "colab": {
      "name": "CNN-LSTM-CuDNNLSTM-CIFAR10.ipynb",
      "provenance": [],
      "include_colab_link": true
    },
    "kernelspec": {
      "name": "python3",
      "display_name": "Python 3"
    },
    "accelerator": "GPU"
  },
  "cells": [
    {
      "cell_type": "markdown",
      "metadata": {
        "id": "view-in-github",
        "colab_type": "text"
      },
      "source": [
        "<a href=\"https://colab.research.google.com/github/adityaiitg/Experiments/blob/main/CNN_LSTM_CuDNNLSTM_CIFAR10.ipynb\" target=\"_parent\"><img src=\"https://colab.research.google.com/assets/colab-badge.svg\" alt=\"Open In Colab\"/></a>"
      ]
    },
    {
      "metadata": {
        "id": "kfsUsxhg8AO0"
      },
      "cell_type": "markdown",
      "source": [
        "### Tensorflow Keras  :"
      ]
    },
    {
      "metadata": {
        "id": "OrtqrZmI9qZ6",
        "colab": {
          "base_uri": "https://localhost:8080/",
          "height": 35
        },
        "outputId": "e66d5f92-08b4-456d-f055-ff98f5479570"
      },
      "cell_type": "code",
      "source": [
        "%pylab inline\n",
        "import tensorflow as tf\n",
        "from tensorflow.keras.datasets import cifar10,mnist\n",
        "from tensorflow.keras.layers import Dense,Flatten,Conv2D,MaxPooling2D,CuDNNLSTM,LSTM,Dropout\n",
        "from tensorflow.keras.models import Sequential\n",
        "from tensorflow.keras.utils import normalize"
      ],
      "execution_count": null,
      "outputs": [
        {
          "output_type": "stream",
          "text": [
            "Populating the interactive namespace from numpy and matplotlib\n"
          ],
          "name": "stdout"
        }
      ]
    },
    {
      "metadata": {
        "id": "AwLOjv3D7Db2"
      },
      "cell_type": "markdown",
      "source": [
        "### CIFAR10 Dataset"
      ]
    },
    {
      "metadata": {
        "id": "l_b_HCigEZwY"
      },
      "cell_type": "code",
      "source": [
        "(x_train,y_train),(x_test,y_test) = cifar10.load_data()\n",
        "x_train = normalize(x_train,axis = 1)\n",
        "x_test = normalize(x_test,axis = 1)"
      ],
      "execution_count": null,
      "outputs": []
    },
    {
      "metadata": {
        "id": "Mn1GM6277VQg"
      },
      "cell_type": "markdown",
      "source": [
        "###  Convolutional Neural Networks  On CIFAR10 | Image Classification : "
      ]
    },
    {
      "metadata": {
        "id": "0Z5Bk_cUEyP0",
        "colab": {
          "base_uri": "https://localhost:8080/",
          "height": 163
        },
        "outputId": "f84cc923-1aa5-49a6-cf98-2a9fc72d3bf5"
      },
      "cell_type": "code",
      "source": [
        "## Convulational Neural Network : \n",
        "model = Sequential()\n",
        "model.add(Conv2D(128,kernel_size = (3,3),strides = (1,1),input_shape = x_train.shape[1:],activation = 'relu'))\n",
        "model.add(MaxPooling2D(pool_size = (2,2),strides = (1,1)))\n",
        "\n",
        "model.add(Conv2D(128,kernel_size = (3,3),strides = (1,1),activation = 'relu'))\n",
        "model.add(MaxPooling2D(pool_size = (2,2),strides = (1,1)))\n",
        "\n",
        "model.add(Flatten())\n",
        "model.add(Dense(64,activation = 'relu'))\n",
        "model.add(Dense(10,activation = 'softmax'))\n",
        "model.compile(optimizer = 'adam',loss = \"sparse_categorical_crossentropy\" , metrics=['accuracy'])\n",
        "model.fit(x_train,y_train,epochs = 3,validation_data = (x_test,y_test))"
      ],
      "execution_count": null,
      "outputs": [
        {
          "output_type": "stream",
          "text": [
            "Train on 50000 samples, validate on 10000 samples\n",
            "Epoch 1/3\n",
            "50000/50000 [==============================] - 1076s 22ms/step - loss: 1.5139 - acc: 0.4638 - val_loss: 1.2387 - val_acc: 0.5590\n",
            "Epoch 2/3\n",
            "50000/50000 [==============================] - 1065s 21ms/step - loss: 1.1175 - acc: 0.6101 - val_loss: 1.0721 - val_acc: 0.6310\n",
            "Epoch 3/3\n",
            "50000/50000 [==============================] - 1061s 21ms/step - loss: 0.9854 - acc: 0.6581 - val_loss: 1.0571 - val_acc: 0.6399\n"
          ],
          "name": "stdout"
        },
        {
          "output_type": "execute_result",
          "data": {
            "text/plain": [
              "<tensorflow.python.keras.callbacks.History at 0x7fee5257ee80>"
            ]
          },
          "metadata": {
            "tags": []
          },
          "execution_count": 14
        }
      ]
    },
    {
      "metadata": {
        "id": "b1_yWHvO7qM_"
      },
      "cell_type": "markdown",
      "source": [
        "### MNIST Dataset : "
      ]
    },
    {
      "metadata": {
        "id": "AMIvxqbe3bMB",
        "colab": {
          "base_uri": "https://localhost:8080/",
          "height": 54
        },
        "outputId": "9fa411c2-a62f-48bb-b6da-85b0e7f76b16"
      },
      "cell_type": "code",
      "source": [
        "(x_train,y_train),(x_test,y_test) = mnist.load_data()\n",
        "x_train,x_test = normalize(x_train,axis = 1),normalize(x_test,axis = 1)"
      ],
      "execution_count": null,
      "outputs": [
        {
          "output_type": "stream",
          "text": [
            "Downloading data from https://storage.googleapis.com/tensorflow/tf-keras-datasets/mnist.npz\n",
            "11493376/11490434 [==============================] - 0s 0us/step\n"
          ],
          "name": "stdout"
        }
      ]
    },
    {
      "metadata": {
        "id": "t3VN1of27v9H"
      },
      "cell_type": "markdown",
      "source": [
        "### Recurent Neural Network with LSTM | MNIST : "
      ]
    },
    {
      "metadata": {
        "id": "LiBW6mqPFy-8",
        "colab": {
          "base_uri": "https://localhost:8080/",
          "height": 163
        },
        "outputId": "80dd4efa-90e5-4c9b-97de-7807c4b83596"
      },
      "cell_type": "code",
      "source": [
        "model = Sequential()\n",
        "model.add(LSTM(128,input_shape = (x_train.shape[1:]),activation = 'relu',return_sequences = True))\n",
        "model.add(Dropout(0.2))\n",
        "\n",
        "model.add(LSTM(128,activation = 'relu'))\n",
        "model.add(Dropout(0.2))\n",
        "\n",
        "model.add(Dense(32,activation = 'relu'))\n",
        "model.add(Dropout(0.2))\n",
        "\n",
        "model.add(Dense(10,activation = 'softmax'))\n",
        "\n",
        "opt = tf.keras.optimizers.Adam(lr = 1e-3,decay = 1e-5)\n",
        "model.compile(optimizer = opt,loss = \"sparse_categorical_crossentropy\" , metrics=['accuracy'])\n",
        "model.fit(x_train,y_train,epochs = 3,validation_data = (x_test,y_test))"
      ],
      "execution_count": null,
      "outputs": [
        {
          "output_type": "stream",
          "text": [
            "Train on 60000 samples, validate on 10000 samples\n",
            "Epoch 1/3\n",
            "60000/60000 [==============================] - 310s 5ms/step - loss: 0.8863 - acc: 0.6940 - val_loss: 0.2339 - val_acc: 0.9280\n",
            "Epoch 2/3\n",
            "60000/60000 [==============================] - 309s 5ms/step - loss: 0.2347 - acc: 0.9355 - val_loss: 0.1295 - val_acc: 0.9644\n",
            "Epoch 3/3\n",
            "60000/60000 [==============================] - 309s 5ms/step - loss: 0.1519 - acc: 0.9586 - val_loss: 0.0883 - val_acc: 0.9731\n"
          ],
          "name": "stdout"
        },
        {
          "output_type": "execute_result",
          "data": {
            "text/plain": [
              "<tensorflow.python.keras.callbacks.History at 0x7fee4e999c88>"
            ]
          },
          "metadata": {
            "tags": []
          },
          "execution_count": 35
        }
      ]
    },
    {
      "metadata": {
        "id": "N2z0wOae73Bw"
      },
      "cell_type": "markdown",
      "source": [
        "### Recurent Neural Network with CuDNNLSTM | MNIST :"
      ]
    },
    {
      "metadata": {
        "id": "Hr8xyaBcwOve",
        "colab": {
          "base_uri": "https://localhost:8080/",
          "height": 163
        },
        "outputId": "65d1cbff-4068-4d5c-ab75-6659d2721c48"
      },
      "cell_type": "code",
      "source": [
        "model = Sequential()\n",
        "model.add(CuDNNLSTM(128,input_shape = (x_train.shape[1:]),return_sequences = True))\n",
        "model.add(Dropout(0.2))\n",
        "\n",
        "model.add(CuDNNLSTM(128))\n",
        "model.add(Dropout(0.2))\n",
        "\n",
        "model.add(Dense(32,activation = 'relu'))\n",
        "model.add(Dropout(0.2))\n",
        "\n",
        "model.add(Dense(10,activation = 'softmax'))\n",
        "\n",
        "opt = tf.keras.optimizers.Adam(lr = 1e-3,decay = 1e-5)\n",
        "model.compile(optimizer = opt,loss = \"sparse_categorical_crossentropy\" , metrics=['accuracy'])\n",
        "model.fit(x_train,y_train,epochs = 3,validation_data = (x_test,y_test))"
      ],
      "execution_count": null,
      "outputs": [
        {
          "output_type": "stream",
          "text": [
            "Train on 60000 samples, validate on 10000 samples\n",
            "Epoch 1/3\n",
            "60000/60000 [==============================] - 44s 737us/step - loss: 0.5060 - acc: 0.8400 - val_loss: 0.1790 - val_acc: 0.9480\n",
            "Epoch 2/3\n",
            "60000/60000 [==============================] - 42s 707us/step - loss: 0.1610 - acc: 0.9565 - val_loss: 0.1062 - val_acc: 0.9674\n",
            "Epoch 3/3\n",
            "60000/60000 [==============================] - 42s 705us/step - loss: 0.1099 - acc: 0.9701 - val_loss: 0.0759 - val_acc: 0.9760\n"
          ],
          "name": "stdout"
        },
        {
          "output_type": "execute_result",
          "data": {
            "text/plain": [
              "<tensorflow.python.keras.callbacks.History at 0x7f82f3077fd0>"
            ]
          },
          "metadata": {
            "tags": []
          },
          "execution_count": 4
        }
      ]
    }
  ]
}